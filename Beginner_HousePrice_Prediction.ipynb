{
 "cells": [
  {
   "cell_type": "markdown",
   "id": "53694499",
   "metadata": {},
   "source": [
    "\n",
    "# Predicting House Prices 🏡💲\n",
    "\n",
    "Welcome! In this notebook you’ll learn how to **predict the price of a house** using simple math called **Linear Regression**.  \n",
    "Think of it like adjusting sliders to see how much each factor changes the price.\n"
   ]
  },
  {
   "cell_type": "markdown",
   "id": "62325351",
   "metadata": {},
   "source": [
    "\n",
    "## Step 1: Start with Data\n",
    "\n",
    "Here’s a small dataset of houses.  \n",
    "Each row is a house with these features:\n",
    "\n",
    "- **Size (sq ft)** 🏠  \n",
    "- **Number of rooms** 🛏️  \n",
    "- **Location score** 📍 (higher is better)  \n",
    "- **Price** 💲  \n"
   ]
  },
  {
   "cell_type": "code",
   "execution_count": 2,
   "id": "9e046015",
   "metadata": {},
   "outputs": [
    {
     "data": {
      "text/html": [
       "<div>\n",
       "<style scoped>\n",
       "    .dataframe tbody tr th:only-of-type {\n",
       "        vertical-align: middle;\n",
       "    }\n",
       "\n",
       "    .dataframe tbody tr th {\n",
       "        vertical-align: top;\n",
       "    }\n",
       "\n",
       "    .dataframe thead th {\n",
       "        text-align: right;\n",
       "    }\n",
       "</style>\n",
       "<table border=\"1\" class=\"dataframe\">\n",
       "  <thead>\n",
       "    <tr style=\"text-align: right;\">\n",
       "      <th></th>\n",
       "      <th>size_sqft</th>\n",
       "      <th>rooms</th>\n",
       "      <th>location_score</th>\n",
       "      <th>price</th>\n",
       "    </tr>\n",
       "  </thead>\n",
       "  <tbody>\n",
       "    <tr>\n",
       "      <th>0</th>\n",
       "      <td>1000</td>\n",
       "      <td>2</td>\n",
       "      <td>1</td>\n",
       "      <td>120000</td>\n",
       "    </tr>\n",
       "    <tr>\n",
       "      <th>1</th>\n",
       "      <td>1500</td>\n",
       "      <td>3</td>\n",
       "      <td>2</td>\n",
       "      <td>180000</td>\n",
       "    </tr>\n",
       "    <tr>\n",
       "      <th>2</th>\n",
       "      <td>2000</td>\n",
       "      <td>3</td>\n",
       "      <td>3</td>\n",
       "      <td>240000</td>\n",
       "    </tr>\n",
       "    <tr>\n",
       "      <th>3</th>\n",
       "      <td>2500</td>\n",
       "      <td>4</td>\n",
       "      <td>4</td>\n",
       "      <td>300000</td>\n",
       "    </tr>\n",
       "    <tr>\n",
       "      <th>4</th>\n",
       "      <td>3000</td>\n",
       "      <td>5</td>\n",
       "      <td>5</td>\n",
       "      <td>360000</td>\n",
       "    </tr>\n",
       "  </tbody>\n",
       "</table>\n",
       "</div>"
      ],
      "text/plain": [
       "   size_sqft  rooms  location_score   price\n",
       "0       1000      2               1  120000\n",
       "1       1500      3               2  180000\n",
       "2       2000      3               3  240000\n",
       "3       2500      4               4  300000\n",
       "4       3000      5               5  360000"
      ]
     },
     "execution_count": 2,
     "metadata": {},
     "output_type": "execute_result"
    }
   ],
   "source": [
    "\n",
    "import pandas as pd\n",
    "\n",
    "# A simple dataset\n",
    "data = pd.DataFrame({\n",
    "    \"size_sqft\": [1000, 1500, 2000, 2500, 3000],\n",
    "    \"rooms\": [2, 3, 3, 4, 5],\n",
    "    \"location_score\": [1, 2, 3, 4, 5],\n",
    "    \"price\": [120000, 180000, 240000, 300000, 360000]\n",
    "})\n",
    "\n",
    "data\n"
   ]
  },
  {
   "cell_type": "markdown",
   "id": "1661dbc1",
   "metadata": {},
   "source": [
    "\n",
    "## Step 2: Train the Model\n",
    "\n",
    "We’ll train a Linear Regression model to learn:\n",
    "\n",
    "- **Bias (Base Price)** → starting price of a house  \n",
    "- **Weights** → how much each factor adds to the price  \n"
   ]
  },
  {
   "cell_type": "code",
   "execution_count": 3,
   "id": "879ed07c",
   "metadata": {},
   "outputs": [
    {
     "name": "stdout",
     "output_type": "stream",
     "text": [
      "Bias (Base Price): 0.24\n",
      "Weights (importance of each factor):\n"
     ]
    },
    {
     "data": {
      "text/html": [
       "<div>\n",
       "<style scoped>\n",
       "    .dataframe tbody tr th:only-of-type {\n",
       "        vertical-align: middle;\n",
       "    }\n",
       "\n",
       "    .dataframe tbody tr th {\n",
       "        vertical-align: top;\n",
       "    }\n",
       "\n",
       "    .dataframe thead th {\n",
       "        text-align: right;\n",
       "    }\n",
       "</style>\n",
       "<table border=\"1\" class=\"dataframe\">\n",
       "  <thead>\n",
       "    <tr style=\"text-align: right;\">\n",
       "      <th></th>\n",
       "      <th>Feature</th>\n",
       "      <th>Weight</th>\n",
       "    </tr>\n",
       "  </thead>\n",
       "  <tbody>\n",
       "    <tr>\n",
       "      <th>0</th>\n",
       "      <td>size_sqft</td>\n",
       "      <td>1.199995e+02</td>\n",
       "    </tr>\n",
       "    <tr>\n",
       "      <th>1</th>\n",
       "      <td>rooms</td>\n",
       "      <td>-2.775558e-17</td>\n",
       "    </tr>\n",
       "    <tr>\n",
       "      <th>2</th>\n",
       "      <td>location_score</td>\n",
       "      <td>2.399990e-01</td>\n",
       "    </tr>\n",
       "  </tbody>\n",
       "</table>\n",
       "</div>"
      ],
      "text/plain": [
       "          Feature        Weight\n",
       "0       size_sqft  1.199995e+02\n",
       "1           rooms -2.775558e-17\n",
       "2  location_score  2.399990e-01"
      ]
     },
     "execution_count": 3,
     "metadata": {},
     "output_type": "execute_result"
    }
   ],
   "source": [
    "\n",
    "from sklearn.linear_model import LinearRegression\n",
    "\n",
    "X = data[[\"size_sqft\", \"rooms\", \"location_score\"]]\n",
    "y = data[\"price\"]\n",
    "\n",
    "model = LinearRegression()\n",
    "model.fit(X, y)\n",
    "\n",
    "print(\"Bias (Base Price):\", round(model.intercept_, 2))\n",
    "print(\"Weights (importance of each factor):\")\n",
    "pd.DataFrame({\n",
    "    \"Feature\": X.columns,\n",
    "    \"Weight\": model.coef_\n",
    "})\n"
   ]
  },
  {
   "cell_type": "markdown",
   "id": "6bd974e1",
   "metadata": {},
   "source": [
    "\n",
    "## Step 3: Make Predictions\n",
    "\n",
    "Now let’s predict the price of a new house.  \n",
    "Change the numbers below and re-run the cell to see new predictions!\n"
   ]
  },
  {
   "cell_type": "code",
   "execution_count": 4,
   "id": "02e0824f",
   "metadata": {},
   "outputs": [
    {
     "name": "stdout",
     "output_type": "stream",
     "text": [
      "Predicted Price: $ 240000.24\n"
     ]
    }
   ],
   "source": [
    "\n",
    "# 👇 Change these values to test your own house!\n",
    "my_house = pd.DataFrame({\n",
    "    \"size_sqft\": [2000],      # change me\n",
    "    \"rooms\": [3],             # change me\n",
    "    \"location_score\": [4]     # change me\n",
    "})\n",
    "\n",
    "predicted_price = model.predict(my_house)\n",
    "print(\"Predicted Price: $\", round(predicted_price[0], 2))\n"
   ]
  },
  {
   "cell_type": "markdown",
   "id": "ff2cfe55",
   "metadata": {},
   "source": [
    "\n",
    "## Step 4: Draw the Line\n",
    "\n",
    "Here’s a chart showing actual house prices (dots) and the prediction line.  \n",
    "The line shows the **trend**: bigger houses usually cost more!\n"
   ]
  },
  {
   "cell_type": "code",
   "execution_count": 5,
   "id": "d1527b11",
   "metadata": {},
   "outputs": [
    {
     "data": {
      "image/png": "[encoded data removed]",
      "text/plain": [
       "<Figure size 640x480 with 1 Axes>"
      ]
     },
     "metadata": {},
     "output_type": "display_data"
    }
   ],
   "source": [
    "\n",
    "import matplotlib.pyplot as plt\n",
    "\n",
    "plt.scatter(data[\"size_sqft\"], y, label=\"Actual Prices\")\n",
    "plt.plot(data[\"size_sqft\"], model.predict(X), color=\"red\", label=\"Prediction Line\")\n",
    "plt.xlabel(\"House Size (sq ft)\")\n",
    "plt.ylabel(\"Price ($)\")\n",
    "plt.title(\"Linear Regression: House Size vs Price\")\n",
    "plt.legend()\n",
    "plt.show()\n"
   ]
  },
  {
   "cell_type": "markdown",
   "id": "f243ba68",
   "metadata": {},
   "source": [
    "\n",
    "---\n",
    "\n",
    "🎉 Congratulations! You just built your first prediction model.  \n",
    "Now try adjusting the inputs and see how the predicted price changes.  \n"
   ]
  }
 ],
 "metadata": {
  "kernelspec": {
   "display_name": "Python 3",
   "language": "python",
   "name": "python3"
  },
  "language_info": {
   "codemirror_mode": {
    "name": "ipython",
    "version": 3
   },
   "file_extension": ".py",
   "mimetype": "text/x-python",
   "name": "python",
   "nbconvert_exporter": "python",
   "pygments_lexer": "ipython3",
   "version": "3.12.1"
  }
 },
 "nbformat": 4,
 "nbformat_minor": 5
}
